{
  "nbformat": 4,
  "nbformat_minor": 0,
  "metadata": {
    "colab": {
      "provenance": [],
      "authorship_tag": "ABX9TyMxGtxotUvsIPZXKXWDTDsB",
      "include_colab_link": true
    },
    "kernelspec": {
      "name": "python3",
      "display_name": "Python 3"
    },
    "language_info": {
      "name": "python"
    }
  },
  "cells": [
    {
      "cell_type": "markdown",
      "metadata": {
        "id": "view-in-github",
        "colab_type": "text"
      },
      "source": [
        "<a href=\"https://colab.research.google.com/github/Vickylk/TESTING/blob/main/odd_even.ipynb\" target=\"_parent\"><img src=\"https://colab.research.google.com/assets/colab-badge.svg\" alt=\"Open In Colab\"/></a>"
      ]
    },
    {
      "cell_type": "code",
      "execution_count": null,
      "metadata": {
        "id": "EPHqK3c70RV-",
        "colab": {
          "base_uri": "https://localhost:8080/"
        },
        "outputId": "8125e965-7a2f-47f7-bc82-faf26c08d3ef"
      },
      "outputs": [
        {
          "output_type": "stream",
          "name": "stdout",
          "text": [
            "Enter a number: 5\n",
            "5 is Odd\n"
          ]
        }
      ],
      "source": [
        "num = int(input(\"Enter a number: \"))\n",
        "if (num % 2) == 0:\n",
        "   print(\"{0} is Even\".format(num))\n",
        "else:\n",
        "   print(\"{0} is Odd\".format(num))"
      ]
    },
    {
      "cell_type": "code",
      "source": [
        "num = int(input(\"Enter a number: \"))\n",
        "if (num % 2) == 1:\n",
        "   print(\"{0} is odd\".format(num))\n",
        "else:\n",
        "   print(\"{0} is Even\".format(num))"
      ],
      "metadata": {
        "colab": {
          "base_uri": "https://localhost:8080/"
        },
        "id": "jQ-Up-LhJbhi",
        "outputId": "a94bcb1a-2e23-4481-80cc-6bc8e3dcd005"
      },
      "execution_count": null,
      "outputs": [
        {
          "output_type": "stream",
          "name": "stdout",
          "text": [
            "Enter a number: 5\n",
            "5 is odd\n"
          ]
        }
      ]
    },
    {
      "cell_type": "code",
      "source": [
        "lists=[2,8,10,3,7,9]\n",
        "for num in lists:\n",
        "  print(num)\n",
        "if (num % 2) == 0:\n",
        "   print(\"{0} is Even\".format(num))\n",
        "else:\n",
        "   print(\"{0} is Odd\".format(num))"
      ],
      "metadata": {
        "colab": {
          "base_uri": "https://localhost:8080/"
        },
        "id": "-dJK94ZoKBlI",
        "outputId": "02ed5dd1-b70e-4f96-f860-0cc39cb10670"
      },
      "execution_count": null,
      "outputs": [
        {
          "output_type": "stream",
          "name": "stdout",
          "text": [
            "2\n",
            "8\n",
            "10\n",
            "3\n",
            "7\n",
            "9\n",
            "9 is Odd\n"
          ]
        }
      ]
    },
    {
      "cell_type": "code",
      "source": [
        "lists=[2,8,10,3,7,9]\n",
        "for temp in lists:\n",
        "  print(temp)\n",
        "for num in lists:\n",
        "  if (num % 2) == 0:\n",
        "   print(\"{0} is Even\".format(num))\n",
        "else:\n",
        "   print(\"{0} is Odd\".format(num))  \n"
      ],
      "metadata": {
        "colab": {
          "base_uri": "https://localhost:8080/"
        },
        "id": "TUe1gRTmLdgv",
        "outputId": "b8dfdf96-eda7-483e-e14b-3e299d3d1d3d"
      },
      "execution_count": null,
      "outputs": [
        {
          "output_type": "stream",
          "name": "stdout",
          "text": [
            "2\n",
            "8\n",
            "10\n",
            "3\n",
            "7\n",
            "9\n",
            "2 is Even\n",
            "8 is Even\n",
            "10 is Even\n",
            "9 is Odd\n"
          ]
        }
      ]
    },
    {
      "cell_type": "code",
      "source": [
        "lists=[2,8,10,3,7,9]\n",
        "for temp in lists:\n",
        "  print(temp)\n",
        "for num in lists:\n",
        "  if (num % 2) == 0:\n",
        "   print(\"{0} is Even\".format(num))\n",
        "  elif(num %2) == 1: \n",
        "    print(\"{0} is Odd\".format(num))\n",
        "  \n",
        " "
      ],
      "metadata": {
        "colab": {
          "base_uri": "https://localhost:8080/"
        },
        "id": "aBWpzn-LMY4h",
        "outputId": "c27bb4d6-3cd2-41b5-dec6-69aee507dc89"
      },
      "execution_count": null,
      "outputs": [
        {
          "output_type": "stream",
          "name": "stdout",
          "text": [
            "2\n",
            "8\n",
            "10\n",
            "3\n",
            "7\n",
            "9\n",
            "2 is Even\n",
            "8 is Even\n",
            "10 is Even\n",
            "3 is Odd\n",
            "7 is Odd\n",
            "9 is Odd\n"
          ]
        }
      ]
    },
    {
      "cell_type": "code",
      "source": [
        "lists=[2,8,10,3,7,9,15,20,25]\n",
        "for num in lists:\n",
        "  if (num % 2) == 0:\n",
        "   print(\"{0} is Even\".format(num))\n",
        "  elif(num %2) == 1: \n",
        "    print(\"{0} is Odd\".format(num))"
      ],
      "metadata": {
        "colab": {
          "base_uri": "https://localhost:8080/"
        },
        "id": "e9fmASjwOeRv",
        "outputId": "6a4831e4-0b8b-4cb0-8edb-ec050acbc4bc"
      },
      "execution_count": null,
      "outputs": [
        {
          "output_type": "stream",
          "name": "stdout",
          "text": [
            "2 is Even\n",
            "8 is Even\n",
            "10 is Even\n",
            "3 is Odd\n",
            "7 is Odd\n",
            "9 is Odd\n",
            "15 is Odd\n",
            "20 is Even\n",
            "25 is Odd\n"
          ]
        }
      ]
    },
    {
      "cell_type": "code",
      "source": [
        "lists=[1,2,3,4,5,6,7,8,9]\n",
        "for num in lists:\n",
        "  if (num % 2) == 0:\n",
        "   print(\"{0} is Even\".format(num))\n",
        "  elif(num %2) == 1: \n",
        "    print(\"{0} is Odd\".format(num))"
      ],
      "metadata": {
        "colab": {
          "base_uri": "https://localhost:8080/"
        },
        "id": "NC6B5qNtOpXx",
        "outputId": "c5de7344-d6f6-4ce9-b1e4-5190451091e9"
      },
      "execution_count": null,
      "outputs": [
        {
          "output_type": "stream",
          "name": "stdout",
          "text": [
            "1 is Odd\n",
            "2 is Even\n",
            "3 is Odd\n",
            "4 is Even\n",
            "5 is Odd\n",
            "6 is Even\n",
            "7 is Odd\n",
            "8 is Even\n",
            "9 is Odd\n"
          ]
        }
      ]
    }
  ]
}