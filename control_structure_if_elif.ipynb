{
  "nbformat": 4,
  "nbformat_minor": 0,
  "metadata": {
    "colab": {
      "provenance": [],
      "authorship_tag": "ABX9TyMi5NLN5RAA/gJ3RtKblI7g",
      "include_colab_link": true
    },
    "kernelspec": {
      "name": "python3",
      "display_name": "Python 3"
    },
    "language_info": {
      "name": "python"
    }
  },
  "cells": [
    {
      "cell_type": "markdown",
      "metadata": {
        "id": "view-in-github",
        "colab_type": "text"
      },
      "source": [
        "<a href=\"https://colab.research.google.com/github/Vickylk/TESTING/blob/main/control_structure_if_elif.ipynb\" target=\"_parent\"><img src=\"https://colab.research.google.com/assets/colab-badge.svg\" alt=\"Open In Colab\"/></a>"
      ]
    },
    {
      "cell_type": "code",
      "execution_count": null,
      "metadata": {
        "id": "H8RpZ-YtrwJw"
      },
      "outputs": [],
      "source": [
        "syntax\n",
        "for temp in range(1,10):\n",
        "  print()"
      ]
    },
    {
      "cell_type": "code",
      "source": [
        "synatx\n",
        "#if-elif\n",
        "if():\n",
        "  print()\n",
        "elif():\n",
        "  print()\n",
        "elif():\n",
        "  print()\n",
        "else:\n",
        "  print()      "
      ],
      "metadata": {
        "id": "9axjf5Pbs-Am"
      },
      "execution_count": null,
      "outputs": []
    },
    {
      "cell_type": "code",
      "source": [
        "age=int(input(\"Enter The Age :\"))"
      ],
      "metadata": {
        "colab": {
          "base_uri": "https://localhost:8080/"
        },
        "id": "j4ozpEFIr2ev",
        "outputId": "c39e6351-2f88-4f6c-c643-f8f25b3f9d2d"
      },
      "execution_count": 7,
      "outputs": [
        {
          "name": "stdout",
          "output_type": "stream",
          "text": [
            "Enter The Age :35\n"
          ]
        }
      ]
    },
    {
      "cell_type": "code",
      "source": [
        "age=int(input(\"Enter The Age :\"))\n",
        "if(age<18):\n",
        "  print(\"children\")\n",
        "elif(age<35):\n",
        "  print(\"adult\")\n",
        "elif(age<59):\n",
        "  print(\"citizen\")\n",
        "else:\n",
        "  print(\"Senior citizen\")  \n"
      ],
      "metadata": {
        "colab": {
          "base_uri": "https://localhost:8080/"
        },
        "id": "gWEQ1RTewhNh",
        "outputId": "f4095562-dec1-4e46-f7a4-5878ed67b4c2"
      },
      "execution_count": 15,
      "outputs": [
        {
          "output_type": "stream",
          "name": "stdout",
          "text": [
            "Enter The Age :60\n",
            "Senior citizen\n"
          ]
        }
      ]
    }
  ]
}