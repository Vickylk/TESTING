{
  "nbformat": 4,
  "nbformat_minor": 0,
  "metadata": {
    "colab": {
      "provenance": [],
      "authorship_tag": "ABX9TyP5ysM8LT0DH0QX+/ghYbwn",
      "include_colab_link": true
    },
    "kernelspec": {
      "name": "python3",
      "display_name": "Python 3"
    },
    "language_info": {
      "name": "python"
    }
  },
  "cells": [
    {
      "cell_type": "markdown",
      "metadata": {
        "id": "view-in-github",
        "colab_type": "text"
      },
      "source": [
        "<a href=\"https://colab.research.google.com/github/Vickylk/TESTING/blob/main/2_Variable%26Assignment_Operator.ipynb\" target=\"_parent\"><img src=\"https://colab.research.google.com/assets/colab-badge.svg\" alt=\"Open In Colab\"/></a>"
      ]
    },
    {
      "cell_type": "code",
      "execution_count": 8,
      "metadata": {
        "colab": {
          "base_uri": "https://localhost:8080/"
        },
        "id": "ahkn9sBbI5HQ",
        "outputId": "dcfb1b0d-5a64-4483-bb19-fde90914b0e1"
      },
      "outputs": [
        {
          "output_type": "stream",
          "name": "stdout",
          "text": [
            "The sum of num1 + num2 = 30\n"
          ]
        }
      ],
      "source": [
        "num1=10\n",
        "num2=20\n",
        "add=num1+num2\n",
        "print(\"The sum of num1 + num2 =\",add)\n"
      ]
    },
    {
      "cell_type": "code",
      "source": [
        "print(\"The Addition of two Number\")\n",
        "Num1=10\n",
        "print(\"The Number1:\",Num1)\n",
        "Num2=20\n",
        "print(\"The Number2:\",Num2)\n",
        "Add=(Num1+Num2)\n",
        "print(\"The Answer :\",Add)\n",
        "\n"
      ],
      "metadata": {
        "colab": {
          "base_uri": "https://localhost:8080/"
        },
        "id": "57UGs9LpKb5a",
        "outputId": "adfcc6b3-4b4e-4f4a-b61c-8ad7efef6b47"
      },
      "execution_count": 13,
      "outputs": [
        {
          "output_type": "stream",
          "name": "stdout",
          "text": [
            "The Addition of two Number\n",
            "The Number1: 10\n",
            "The Number2: 20\n",
            "The Answer : 30\n"
          ]
        }
      ]
    },
    {
      "cell_type": "code",
      "source": [
        "num1=input(\"Enter the Number1:\")\n",
        "num2=input(\"Enter the Number2:\")\n",
        "print(num1+num2)"
      ],
      "metadata": {
        "colab": {
          "base_uri": "https://localhost:8080/"
        },
        "id": "3Joiiz0dP9zA",
        "outputId": "4a98c414-633d-47d5-8919-e069ebe1a1de"
      },
      "execution_count": 16,
      "outputs": [
        {
          "output_type": "stream",
          "name": "stdout",
          "text": [
            "Enter the Number1:30\n",
            "Enter the Number2:50\n",
            "3050\n"
          ]
        }
      ]
    },
    {
      "cell_type": "code",
      "source": [
        "num1=int(input(\"Enter the Number1:\"))\n",
        "num2=int(input(\"Enter the Number2:\"))\n",
        "print(\"The Answer is :\",num1+num2)\n"
      ],
      "metadata": {
        "colab": {
          "base_uri": "https://localhost:8080/"
        },
        "id": "rax2RdFFRYYj",
        "outputId": "0f28c857-aff1-4908-96f0-4230aa0b40fc"
      },
      "execution_count": 18,
      "outputs": [
        {
          "output_type": "stream",
          "name": "stdout",
          "text": [
            "Enter the Number1:50\n",
            "Enter the Number2:40\n",
            "The Answer is : 90\n"
          ]
        }
      ]
    }
  ]
}