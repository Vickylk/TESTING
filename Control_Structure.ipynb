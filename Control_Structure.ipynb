{
  "nbformat": 4,
  "nbformat_minor": 0,
  "metadata": {
    "colab": {
      "provenance": [],
      "authorship_tag": "ABX9TyNd1ALtzHMwcCjUnaJmwGae",
      "include_colab_link": true
    },
    "kernelspec": {
      "name": "python3",
      "display_name": "Python 3"
    },
    "language_info": {
      "name": "python"
    }
  },
  "cells": [
    {
      "cell_type": "markdown",
      "metadata": {
        "id": "view-in-github",
        "colab_type": "text"
      },
      "source": [
        "<a href=\"https://colab.research.google.com/github/Vickylk/TESTING/blob/main/Control_Structure.ipynb\" target=\"_parent\"><img src=\"https://colab.research.google.com/assets/colab-badge.svg\" alt=\"Open In Colab\"/></a>"
      ]
    },
    {
      "cell_type": "code",
      "execution_count": null,
      "metadata": {
        "id": "pgT7y8yjTskz"
      },
      "outputs": [],
      "source": [
        "if():\n",
        "  print()\n",
        "  syntax"
      ]
    },
    {
      "cell_type": "code",
      "source": [
        "age=int(input(\"Enter The Age :\"))\n",
        "if(age>=18):\n",
        "  print(\"The Given age is Adult\")\n",
        "else:\n",
        "  print(\"The Given Age is child\")"
      ],
      "metadata": {
        "colab": {
          "base_uri": "https://localhost:8080/"
        },
        "id": "QbZoGPmyUuJx",
        "outputId": "cc8a87f8-7fa2-42e6-fc15-39f2a65bebc8"
      },
      "execution_count": 9,
      "outputs": [
        {
          "output_type": "stream",
          "name": "stdout",
          "text": [
            "Enter The Age :12\n",
            "The Given Age is child\n"
          ]
        }
      ]
    },
    {
      "cell_type": "code",
      "source": [
        "age=int(input(\"Enter the age =\"))\n",
        "if(age==18):\n",
        "  print(\"age is Equal to 18\")\n",
        "else:\n",
        "  print(\"The Age is Not Equal to 18\")\n"
      ],
      "metadata": {
        "colab": {
          "base_uri": "https://localhost:8080/"
        },
        "id": "vkxi-Y1FlezA",
        "outputId": "01df4cff-d23c-43f1-9e81-dbfae56d3956"
      },
      "execution_count": 16,
      "outputs": [
        {
          "output_type": "stream",
          "name": "stdout",
          "text": [
            "Enter the age =18\n",
            "age is Equal to 18\n"
          ]
        }
      ]
    },
    {
      "cell_type": "code",
      "source": [
        "age=int(input(\"Enter the age =\"))\n",
        "if(age!=18):\n",
        "  print(\"age is Not Equal to 18\")\n",
        "else:\n",
        "  print(\"The Age is  Equal to 18\")"
      ],
      "metadata": {
        "colab": {
          "base_uri": "https://localhost:8080/"
        },
        "id": "CUiuNGAjov6I",
        "outputId": "c96e4eec-3f9d-46e4-ddc6-d1ffaf0721c6"
      },
      "execution_count": 18,
      "outputs": [
        {
          "output_type": "stream",
          "name": "stdout",
          "text": [
            "Enter the age =17\n",
            "age is Not Equal to 18\n"
          ]
        }
      ]
    },
    {
      "cell_type": "code",
      "source": [
        "age=int(input(\"Enter the age =\"))\n",
        "if(age<18):\n",
        "  print(\"age is Less than 18 \")\n",
        "else:\n",
        "  print(\"The Age is greater than to 18\")"
      ],
      "metadata": {
        "colab": {
          "base_uri": "https://localhost:8080/"
        },
        "id": "LRedoIxapLlS",
        "outputId": "d12654b2-d6d6-4945-9636-0130d37efda7"
      },
      "execution_count": 22,
      "outputs": [
        {
          "output_type": "stream",
          "name": "stdout",
          "text": [
            "Enter the age =18\n",
            "The Age is greater than to 18\n"
          ]
        }
      ]
    },
    {
      "cell_type": "code",
      "source": [
        "age=int(input(\"Enter the age =\"))\n",
        "if(age<=18):\n",
        "  print(\"age is Less than 18 \")\n",
        "else:\n",
        "  print(\"The Age is greater than to 18\")"
      ],
      "metadata": {
        "colab": {
          "base_uri": "https://localhost:8080/"
        },
        "id": "PlSJ6W-vqJ46",
        "outputId": "45a1b379-6393-4088-949b-e6c2c887fcb8"
      },
      "execution_count": 25,
      "outputs": [
        {
          "output_type": "stream",
          "name": "stdout",
          "text": [
            "Enter the age =18\n",
            "age is Less than 18 \n"
          ]
        }
      ]
    },
    {
      "cell_type": "code",
      "source": [
        "age=int(input(\"Enter the age =\"))\n",
        "if(age>18):\n",
        "  print(\"age is Greater than 18 \")\n",
        "else:\n",
        "  print(\"The Age is Less than 18\")"
      ],
      "metadata": {
        "colab": {
          "base_uri": "https://localhost:8080/"
        },
        "id": "pQYzlKwoqX0G",
        "outputId": "ef846fda-301e-41d6-8ddc-056dae848bf3"
      },
      "execution_count": 28,
      "outputs": [
        {
          "output_type": "stream",
          "name": "stdout",
          "text": [
            "Enter the age =18\n",
            "The Age is Less than 18\n"
          ]
        }
      ]
    },
    {
      "cell_type": "code",
      "source": [
        "age=int(input(\"Enter the age =\"))\n",
        "if(age>=18):\n",
        "  print(\"age is Greater than 18 \")\n",
        "else:\n",
        "  print(\"The Age is Less than 18\")"
      ],
      "metadata": {
        "colab": {
          "base_uri": "https://localhost:8080/"
        },
        "id": "yZmpykrTqunl",
        "outputId": "7883fa42-d5e0-41ba-ea0b-d0e6273d37af"
      },
      "execution_count": 29,
      "outputs": [
        {
          "output_type": "stream",
          "name": "stdout",
          "text": [
            "Enter the age =18\n",
            "age is Greater than 18 \n"
          ]
        }
      ]
    }
  ]
}