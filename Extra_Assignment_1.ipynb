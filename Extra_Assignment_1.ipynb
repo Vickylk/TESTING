{
  "nbformat": 4,
  "nbformat_minor": 0,
  "metadata": {
    "colab": {
      "provenance": [],
      "authorship_tag": "ABX9TyMCEAsm3BC2EHP2ua1QEDi7",
      "include_colab_link": true
    },
    "kernelspec": {
      "name": "python3",
      "display_name": "Python 3"
    },
    "language_info": {
      "name": "python"
    }
  },
  "cells": [
    {
      "cell_type": "markdown",
      "metadata": {
        "id": "view-in-github",
        "colab_type": "text"
      },
      "source": [
        "<a href=\"https://colab.research.google.com/github/Vickylk/TESTING/blob/main/Extra_Assignment_1.ipynb\" target=\"_parent\"><img src=\"https://colab.research.google.com/assets/colab-badge.svg\" alt=\"Open In Colab\"/></a>"
      ]
    },
    {
      "cell_type": "code",
      "execution_count": 1,
      "metadata": {
        "colab": {
          "base_uri": "https://localhost:8080/"
        },
        "id": "ujUGZtBcZ-Ju",
        "outputId": "930a85c3-65c6-418c-fb38-bd2979f55edd"
      },
      "outputs": [
        {
          "output_type": "stream",
          "name": "stdout",
          "text": [
            "HOPE AI\n"
          ]
        }
      ],
      "source": [
        "print(\"HOPE AI\")"
      ]
    },
    {
      "cell_type": "code",
      "source": [
        "Name=input(\"Enter the institute Name ? :\"  )"
      ],
      "metadata": {
        "colab": {
          "base_uri": "https://localhost:8080/"
        },
        "id": "9qohIPLPar6S",
        "outputId": "76e5b8e9-dd20-4db9-8571-70dfd2cc1206"
      },
      "execution_count": 6,
      "outputs": [
        {
          "name": "stdout",
          "output_type": "stream",
          "text": [
            "Enter the institute Name ? :HOPE AI\n"
          ]
        }
      ]
    },
    {
      "cell_type": "code",
      "source": [
        "NAME=input(\"Enter your Name :\"  )\n",
        "print(\"Enter your Name :\",NAME)\n",
        "AGE=input(\"Enter your AGE :\"  )\n",
        "print(\"Enter your AGE :\",AGE)"
      ],
      "metadata": {
        "colab": {
          "base_uri": "https://localhost:8080/"
        },
        "id": "Mi6MmySVd9Ik",
        "outputId": "6a1d4e5f-656a-4163-c6a2-681e95fb822a"
      },
      "execution_count": 10,
      "outputs": [
        {
          "output_type": "stream",
          "name": "stdout",
          "text": [
            "Enter your Name :RAJ\n",
            "Enter your Name : RAJ\n",
            "Enter your AGE :30\n",
            "Enter your AGE : 30\n"
          ]
        }
      ]
    }
  ]
}