{
  "nbformat": 4,
  "nbformat_minor": 0,
  "metadata": {
    "colab": {
      "provenance": [],
      "authorship_tag": "ABX9TyMQ9cf4DYGA51u6jpGkzXb+",
      "include_colab_link": true
    },
    "kernelspec": {
      "name": "python3",
      "display_name": "Python 3"
    },
    "language_info": {
      "name": "python"
    }
  },
  "cells": [
    {
      "cell_type": "markdown",
      "metadata": {
        "id": "view-in-github",
        "colab_type": "text"
      },
      "source": [
        "<a href=\"https://colab.research.google.com/github/Vickylk/TESTING/blob/main/Assignment_1_control_structures.ipynb\" target=\"_parent\"><img src=\"https://colab.research.google.com/assets/colab-badge.svg\" alt=\"Open In Colab\"/></a>"
      ]
    },
    {
      "cell_type": "code",
      "execution_count": 1,
      "metadata": {
        "colab": {
          "base_uri": "https://localhost:8080/"
        },
        "id": "-zZ_kIhyTt-g",
        "outputId": "6155be8b-377a-4c15-89a0-958979e3e018"
      },
      "outputs": [
        {
          "output_type": "stream",
          "name": "stdout",
          "text": [
            "Welcome to Assignment- 1\n"
          ]
        }
      ],
      "source": [
        "print(\"Welcome to Assignment- 1\")"
      ]
    },
    {
      "cell_type": "code",
      "source": [
        "Num1=10\n",
        "print(\"Num1=\", Num1)\n",
        "Num2=30\n",
        "print(\"Num2=\", Num2)\n",
        "Add=Num1+Num2\n",
        "print(\"Add=\" , Add)"
      ],
      "metadata": {
        "colab": {
          "base_uri": "https://localhost:8080/"
        },
        "id": "be-L_WbxUNSx",
        "outputId": "b2898703-04f2-4d1b-ead4-b6aa2f450d31"
      },
      "execution_count": 6,
      "outputs": [
        {
          "output_type": "stream",
          "name": "stdout",
          "text": [
            "Num1= 10\n",
            "Num2= 30\n",
            "Add= 40\n"
          ]
        }
      ]
    },
    {
      "cell_type": "code",
      "source": [
        "BMI=int(input(\"Enter the BMI Index :\"))\n",
        "if(BMI<18):\n",
        "    print(\"Under Weight\")\n",
        "elif(BMI<25):\n",
        "    print(\"Healthy Weight\")\n",
        "elif(BMI<30):\n",
        "    print(\"over Weight\")\n",
        "elif(BMI<35):\n",
        "    print(\"obese\")  \n",
        "elif(BMI<40):\n",
        "    print(\"Severely  obese\")      \n",
        "else:\n",
        "    print(\"Morbidly obese\")"
      ],
      "metadata": {
        "colab": {
          "base_uri": "https://localhost:8080/"
        },
        "id": "jzw3omGjVtud",
        "outputId": "7499ddfd-3fc7-4e9d-8b98-18702c6303d0"
      },
      "execution_count": 12,
      "outputs": [
        {
          "output_type": "stream",
          "name": "stdout",
          "text": [
            "Enter the BMI Index :29\n",
            "over Weight\n"
          ]
        }
      ]
    },
    {
      "cell_type": "code",
      "source": [],
      "metadata": {
        "id": "2w4PHvDBW-4s"
      },
      "execution_count": null,
      "outputs": []
    }
  ]
}